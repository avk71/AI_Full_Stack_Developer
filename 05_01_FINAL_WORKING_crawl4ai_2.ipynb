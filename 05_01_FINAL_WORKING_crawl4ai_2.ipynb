{
 "cells": [
  {
   "cell_type": "code",
   "execution_count": null,
   "id": "637c1b36",
   "metadata": {},
   "outputs": [],
   "source": [
    "from crawl4ai import AsyncWebCrawler, CrawlerRunConfig, CacheMode\n",
    "import asyncio\n",
    "\n",
    "urls_to_crawl = [\n",
    "    \"https://docs.llamaindex.ai/en/stable/understanding/\",\n",
    "]\n",
    "\n",
    "config = CrawlerRunConfig(\n",
    "    cache_mode=CacheMode.BYPASS,\n",
    "    page_timeout=80000,\n",
    "    word_count_threshold=50,\n",
    ")\n",
    "\n",
    "async def crawl_website():\n",
    "    data_res = {\"data\": []}\n",
    "\n",
    "    async with AsyncWebCrawler(verbose=True) as crawler:\n",
    "        results = await crawler.arun_many(urls_to_crawl, config=config)\n",
    "\n",
    "        for result in results:\n",
    "            if result.success:\n",
    "                title = result.metadata.get(\"title\", \"\")\n",
    "                if not title and result.markdown:\n",
    "                    lines = result.markdown.raw_markdown.split(\"\\n\")\n",
    "                    for line in lines:\n",
    "                        if line.startswith(\"#\"):\n",
    "                            title = line.strip(\"#\").strip()\n",
    "                            break\n",
    "\n",
    "                data_res[\"data\"].append(\n",
    "                    {\n",
    "                        \"text\": result.markdown.raw_markdown if result.markdown else \"\",\n",
    "                        \"meta\": {\"url\": result.url, \"meta\": {\"title\": title}},\n",
    "                    }\n",
    "                )\n",
    "\n",
    "    return data_res\n",
    "\n",
    "# Create new event loop for Jupyter\n",
    "loop = asyncio.new_event_loop()\n",
    "asyncio.set_event_loop(loop)\n",
    "data_res = loop.run_until_complete(crawl_website())\n",
    "loop.close()\n",
    "\n",
    "print(data_res)"
   ]
  }
 ],
 "metadata": {
  "kernelspec": {
   "display_name": "AI_Full_Stack_Developer",
   "language": "python",
   "name": "python3"
  },
  "language_info": {
   "name": "python",
   "version": "3.13.7"
  }
 },
 "nbformat": 4,
 "nbformat_minor": 5
}
