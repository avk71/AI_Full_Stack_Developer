{
 "cells": [
  {
   "cell_type": "code",
   "execution_count": null,
   "id": "ecabe87c",
   "metadata": {},
   "outputs": [],
   "source": [
    "from crawl4ai import AsyncWebCrawler, CrawlerRunConfig, CacheMode\n",
    "import asyncio\n",
    "import nest_asyncio\n",
    "\n",
    "urls_to_crawl = [\n",
    "    \"https://docs.llamaindex.ai/en/stable/understanding/\",  # add your URLs here\n",
    "]\n",
    "\n",
    "# Configuration for the crawler\n",
    "config = CrawlerRunConfig(\n",
    "    cache_mode=CacheMode.BYPASS,  # Don't use cached results\n",
    "    page_timeout=80000,  # Timeout in milliseconds\n",
    "    word_count_threshold=50,  # Skip pages with less than 50 words\n",
    ")\n",
    "\n",
    "# Apply nest_asyncio to handle async in Jupyter/Colab\n",
    "nest_asyncio.apply()\n",
    "\n",
    "\n",
    "async def crawl_website():\n",
    "    data_res = {\"data\": []}\n",
    "\n",
    "    async with AsyncWebCrawler() as crawler:\n",
    "        # Crawl multiple URLs concurrently\n",
    "        results = await crawler.arun_many(urls_to_crawl, config=config)\n",
    "\n",
    "        for result in results:\n",
    "            if result.success:\n",
    "                # Extract title from metadata or markdown content\n",
    "                title = result.metadata.get(\"title\", \"\")\n",
    "                if not title and result.markdown:\n",
    "                    # If no title in metadata, extract from first markdown heading\n",
    "                    lines = result.markdown.raw_markdown.split(\"\\n\")\n",
    "                    for line in lines:\n",
    "                        if line.startswith(\"#\"):\n",
    "                            title = line.strip(\"#\").strip()\n",
    "                            break\n",
    "\n",
    "                # Structure the data similar to previous format for consistency\n",
    "                data_res[\"data\"].append(\n",
    "                    {\n",
    "                        \"text\": result.markdown.raw_markdown if result.markdown else \"\",\n",
    "                        \"meta\": {\"url\": result.url, \"meta\": {\"title\": title}},\n",
    "                    }\n",
    "                )\n",
    "\n",
    "    return data_res\n",
    "\n",
    "\n",
    "# Run the crawler\n",
    "# loop = asyncio.new_event_loop()\n",
    "data_res = loop.run_until_complete(crawl_website())\n",
    "# loop.close()\n"
   ]
  }
 ],
 "metadata": {
  "kernelspec": {
   "display_name": "AI_Full_Stack_Developer",
   "language": "python",
   "name": "python3"
  },
  "language_info": {
   "name": "python",
   "version": "3.13.7"
  }
 },
 "nbformat": 4,
 "nbformat_minor": 5
}
